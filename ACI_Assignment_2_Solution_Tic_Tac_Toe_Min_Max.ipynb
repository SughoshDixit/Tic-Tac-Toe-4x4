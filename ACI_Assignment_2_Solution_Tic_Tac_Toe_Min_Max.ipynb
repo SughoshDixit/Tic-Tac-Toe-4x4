{
  "cells": [
    {
      "cell_type": "markdown",
      "metadata": {
        "id": "349b329b"
      },
      "source": [
        "## Artificial and Computational Intelligence Assignment 2"
      ],
      "id": "349b329b"
    },
    {
      "cell_type": "markdown",
      "metadata": {
        "id": "ef73df95"
      },
      "source": [
        "## Gaming with Min-Max Algorithm - Solution template"
      ],
      "id": "ef73df95"
    },
    {
      "cell_type": "markdown",
      "metadata": {
        "id": "135a6db2"
      },
      "source": [
        "### List only the BITS (Name) of active contributors in this assignment:\n",
        "List only the BITS (Name) of active contributors in this assignment:\n",
        "1. Sughosh P Dixit - 2021fa04058\n",
        "2. Pulkit Khandelwal - 2021fc04905\n",
        "3. Pooja Jain - 2021fc04203\n",
        "4. Akash Goel - 2021fc04277"
      ],
      "id": "135a6db2"
    },
    {
      "cell_type": "markdown",
      "metadata": {
        "id": "d6f97bd9"
      },
      "source": [
        "# Things to follow\n",
        "\n",
        "1. Use appropriate data structures to represent the graph using python libraries\n",
        "2. Provide proper documentation\n",
        "3. Create neat solution without error during game playing"
      ],
      "id": "d6f97bd9"
    },
    {
      "cell_type": "markdown",
      "metadata": {
        "id": "9c8fc7c1"
      },
      "source": [
        "### Coding begins here"
      ],
      "id": "9c8fc7c1"
    },
    {
      "cell_type": "markdown",
      "metadata": {
        "id": "ae16f9ad"
      },
      "source": [
        "### PEAS - Data structures and fringes that define the Agent environment goes here"
      ],
      "id": "ae16f9ad"
    },
    {
      "cell_type": "markdown",
      "metadata": {
        "id": "P3iM_fy-fq6_"
      },
      "source": [
        "List the PEAS decription of the problem here in this markdown block\n",
        "1. **Performance Measure**: Performance measure is the unit to define the success of an agent. Performance varies with agents based on their different precepts.The agent here is the decision agent who decides whether the state is a win or progression with moves still possible\n",
        "2. **Environment**: Environment is the surrounding of an agent at every instant. It keeps changing with time if the agent is set in motion. The type of environment that can be observed is deterministic and stochastic. It is able to determine the best possible path based on the given initial state and win state. By statistical normalization the environment is stochastic which is able to consider parameters (Choosing the right next move) on equal grounds and compute.\n",
        "3. **Actuator**: An actuator is a part of the agent that delivers the output of action to the environment. The actuator is in the form of the trigger who triggers whether a state is a win state or a lose state or a draw state and terminate the game and update the scores.\n",
        "4. **Sensor**: Sensors are the receptive parts of an agent that takes in the input for the agent. Sensors are in this case the board themselves who sense the user/AI input and fill in the user/AI input. "
      ],
      "id": "P3iM_fy-fq6_"
    },
    {
      "cell_type": "markdown",
      "metadata": {
        "id": "979b8c3b"
      },
      "source": [
        "### Implementation of the Min-Max algorithm"
      ],
      "id": "979b8c3b"
    },
    {
      "cell_type": "code",
      "execution_count": null,
      "metadata": {
        "id": "3e2fd5c8"
      },
      "outputs": [],
      "source": [
        "#Code block\n",
        "\n",
        "#Code block\n",
        "#!/usr/bin/env python3\n",
        "from math import inf as infinity\n",
        "from random import choice\n",
        "import platform\n",
        "import time\n",
        "from os import system\n",
        "\n",
        "\"\"\"\n",
        "An implementation of Minimax AI Algorithm in Tic Tac Toe,\n",
        "using Python.\n",
        "\"\"\"\n",
        "\n",
        "def minimax(currdepth, turn, board, maxdepth, board_size):\n",
        "\tif is_full(board, False) or game_over(board, False, board_size) or currdepth == maxdepth:\n",
        "\t\treturn evaluate(board, board_size)\n",
        "\telse:\n",
        "\t\told_board = board\n",
        "\t\tmoves = getMoves(board, board_size)\n",
        "\t\tif turn == 'O':\n",
        "\t\t\tbest = -100\n",
        "\t\t\tfor move in moves:\n",
        "\t\t\t\tnew_board = update_board(board, move, 'cpu', board_size)\n",
        "\t\t\t\tvalue = minimax(currdepth + 1,'X', new_board, maxdepth, board_size)\n",
        "\t\t\t\tbest = max(best, value)\n",
        "\t\t\treturn best - currdepth\n",
        "\t\telse:\n",
        "\t\t\tbest = 100\n",
        "\t\t\tfor move in moves:\n",
        "\t\t\t\tnew_board = update_board(board, move, 'user', board_size)\n",
        "\t\t\t\tvalue = minimax(currdepth + 1, 'O', new_board, maxdepth, board_size)\n",
        "\t\t\t\tbest = min(best, value)\n",
        "\t\t\treturn best + currdepth"
      ],
      "id": "3e2fd5c8"
    },
    {
      "cell_type": "markdown",
      "metadata": {
        "id": "71d82f98"
      },
      "source": [
        "### Implementation of the alpha-beta pruning  "
      ],
      "id": "71d82f98"
    },
    {
      "cell_type": "code",
      "execution_count": null,
      "metadata": {
        "id": "7f807ef3"
      },
      "outputs": [],
      "source": [
        "import math\n",
        "import random\n",
        "import copy\n",
        "\n",
        "def print_board(board):\n",
        "\tfor row in board:\n",
        "\t\tprint(row)\n",
        "\n",
        "\n",
        "def get_user_input(board_size):\n",
        "\tuser_input = -1\n",
        "\tagain = False\n",
        "\tif board_size == 3:\n",
        "\t\twhile not(1 <= user_input <= 9):\n",
        "\t\t\tif again:\n",
        "\t\t\t\tprint(\"That's not a number between 1 and 9\")\n",
        "\t\t\tagain = True\n",
        "\t\t\ttry:\n",
        "\t\t\t\tuser_input = int(input(\"Pick a square 1 - 9: \"))\n",
        "\t\t\texcept:\n",
        "\t\t\t\tcontinue\n",
        "\telif board_size == 4:\n",
        "\t\twhile not(1 <= user_input <= 16):\n",
        "\t\t\tif again:\n",
        "\t\t\t\tprint(\"That's not a number between 1 and 16\")\n",
        "\t\t\tagain = True\n",
        "\t\t\ttry:\n",
        "\t\t\t\tuser_input = int(input(\"Pick a square 1 - 16: \"))\n",
        "\t\t\texcept:\n",
        "\t\t\t\tcontinue\n",
        "\telse:\n",
        "\t\tprint(\"Illegal Board Size\")\n",
        "\t\t\n",
        "\treturn user_input\n",
        "\t\n",
        "def evaluate(board, board_size):\n",
        "\tfor j in range(board_size - 2):\n",
        "\t\tfor i in range(board_size):\n",
        "\t\t\tvalue = 0\n",
        "\t\t\tif board[i][0+j] == board[i][1+j] == board[i][2+j] != \"_\":\n",
        "\t\t\t\tif board[i][0+j] == 'X':\n",
        "\t\t\t\t\tvalue = - 10\n",
        "\t\t\t\t\treturn value\n",
        "\t\t\t\tif board[i][0+j] == 'O':\n",
        "\t\t\t\t\tvalue = 10\n",
        "\t\t\t\t\treturn value\n",
        "\t\t\tif board[0+j][i] == board[1+j][i] == board[2+j][i] != \"_\":\n",
        "\t\t\t\tif board[0+j][i] == 'X':\n",
        "\t\t\t\t\tvalue = -10\n",
        "\t\t\t\t\treturn value\n",
        "\t\t\t\tif board[0+j][i] == 'O':\n",
        "\t\t\t\t\tvalue = 10\n",
        "\t\t\t\t\treturn value\n",
        "\t\tfor k in range(board_size - 2):\n",
        "\t\t\tif board[1+j][1+k] != \"_\":\n",
        "\t\t\t\tif (board[0+j][0+k] == board[1+j][1+k] == board[2+j][2+k] or board[0+j][2+k] == board[1+j][1+k] == board[2+j][0+k]):\n",
        "\t\t\t\t\tif board[1+j][1+k] == 'X':\n",
        "\t\t\t\t\t\tvalue = -10\n",
        "\t\t\t\t\t\treturn value\n",
        "\t\t\t\t\tif board[1+j][1+k] == 'O':\n",
        "\t\t\t\t\t\tvalue = 10\n",
        "\t\t\t\t\t\treturn value\n",
        "\treturn value\n",
        "\n",
        "def getMoves(board, board_size):\n",
        "\tmoves = []\n",
        "\tfor row in range(board_size):\n",
        "\t\tfor col in range(board_size):\n",
        "\t\t\tif board[row][col] =='_':\n",
        "\t\t\t\tvalue = (board_size * row ) + (col + 1)\n",
        "\t\t\t\tmoves.append(value)\n",
        "\treturn moves\n",
        "\n",
        "def update_board(board, input, user, board_size):\n",
        "\trow = math.trunc((input+(board_size - 1))/board_size) - 1\n",
        "\tcol = (input - 1)%board_size\n",
        "\tnew_board = copy.deepcopy(board)\n",
        "\tif new_board[row][col] == 'X' or new_board[row][col] =='O':\n",
        "\t\traise ValueError\n",
        "\tif user == \"user\":\n",
        "\t\tnew_board[row][col]= 'X'\n",
        "\telif user == \"cpu\":\n",
        "\t\tnew_board[row][col] = 'O'\n",
        "\treturn new_board\n",
        "\n",
        "\n",
        "def is_full(board, prt):\n",
        "\tfor row in board:\n",
        "\t\tfor val in row:\n",
        "\t\t\tif val == \"_\":\n",
        "\t\t\t\treturn False\n",
        "\tif prt:\n",
        "\t\tprint(\"You Tied!\")\n",
        "\treturn True\n",
        "\n",
        "def game_over(board, prt, board_size):\n",
        "\tif is_full(board, True):\n",
        "\t\treturn True\n",
        "\telse:\n",
        "\t\tfor j in range(board_size - 2):\n",
        "\t\t\tfor i in range(board_size):\n",
        "\t\t\t\tvalue = 0\n",
        "\t\t\t\tif board[i][0+j] == board[i][1+j] == board[i][2+j] != \"_\":\n",
        "\t\t\t\t\tif board[i][0+j] == 'X':\n",
        "\t\t\t\t\t\tif prt:\n",
        "\t\t\t\t\t\t\tprint(\"You Win!\")\n",
        "\t\t\t\t\t\treturn True\n",
        "\t\t\t\t\tif board[i][0+j] == 'O':\n",
        "\t\t\t\t\t\tif prt:\n",
        "\t\t\t\t\t\t\tprint(\"You Lose!\")\n",
        "\t\t\t\t\t\treturn True\n",
        "\t\t\t\tif board[0+j][i] == board[1+j][i] == board[2+j][i] != \"_\":\n",
        "\t\t\t\t\tif board[0+j][i] == 'X':\n",
        "\t\t\t\t\t\tif prt:\n",
        "\t\t\t\t\t\t\tprint(\"You Win!\")\n",
        "\t\t\t\t\t\treturn True\n",
        "\t\t\t\t\tif board[0+j][i] == 'O':\n",
        "\t\t\t\t\t\tif prt:\n",
        "\t\t\t\t\t\t\tprint(\"You Lose!\")\n",
        "\t\t\t\t\t\treturn True\n",
        "\t\t\tfor k in range(board_size - 2):\n",
        "\t\t\t\tif board[1+j][1+k] != \"_\":\n",
        "\t\t\t\t\tif (board[0+j][0+k] == board[1+j][1+k] == board[2+j][2+k] or board[0+j][2+k] == board[1+j][1+k] == board[2+j][0+k]):\n",
        "\t\t\t\t\t\tif board[1+j][1+k] == 'X':\n",
        "\t\t\t\t\t\t\tif prt:\n",
        "\t\t\t\t\t\t\t\tprint(\"You Win!\")\n",
        "\t\t\t\t\t\t\treturn True\n",
        "\t\t\t\t\t\tif board[1+j][1+k] == 'O':\n",
        "\t\t\t\t\t\t\tif prt:\n",
        "\t\t\t\t\t\t\t\tprint(\"You Lose!\")\n",
        "\t\t\t\t\t\t\treturn True\n",
        "\treturn False\n",
        "\n",
        "def get_cpu_input(board, board_size):\n",
        "\tcurrval = -1000\n",
        "\tmoves = getMoves(board, board_size)\n",
        "\tif board_size == 3:\n",
        "\t\tmaxdepth = len(moves)\n",
        "\telse:\n",
        "\t\tmaxdepth = min(len(moves), 8)\n",
        "\tfor move in moves:\n",
        "\t\tval = minimax(0,'X',update_board(board, move, 'cpu', board_size), len(moves), board_size)\n",
        "\t\tif val > currval:\n",
        "\t\t\tcurrval = val\n",
        "\t\t\tselection = move\n",
        "\treturn selection\n",
        "\n"
      ],
      "id": "7f807ef3"
    },
    {
      "cell_type": "markdown",
      "metadata": {
        "id": "c158f4a2"
      },
      "source": [
        "### Choice and implementation of the Static Evaluation Function."
      ],
      "id": "c158f4a2"
    },
    {
      "cell_type": "code",
      "execution_count": null,
      "metadata": {
        "id": "ad3cab97"
      },
      "outputs": [],
      "source": [
        "#Code Block\n",
        "def run_game():\n",
        "\tuser_turn = True\n",
        "\tboard_size = 4\n",
        "\tgame_board_init = []\n",
        "\tfor i in range(board_size):\n",
        "\t\tgame_board_init.append([])\n",
        "\t\tfor j in range(board_size):\n",
        "\t\t\tgame_board_init[i].append(\"_\")\n",
        "\n",
        "\tprint_board(game_board_init)\n",
        "\tnew_board = game_board_init\n",
        "\n",
        "\twhile not game_over(new_board, True, board_size):\n",
        "\t\tif user_turn:\n",
        "\t\t\tprint(\"Your turn!\")\n",
        "\t\t\tuser_input = get_user_input(board_size)\n",
        "\t\t\ttry:\n",
        "\t\t\t\tnew_board = update_board(new_board, user_input,\"user\", board_size)\n",
        "\t\t\t\tprint_board(new_board)\n",
        "\t\t\t\tuser_turn = False\n",
        "\t\t\texcept:\n",
        "\t\t\t\tprint(\"That spot has been taken!\")\n",
        "\t\t\t\tcontinue\n",
        "\n",
        "\t\telse:\n",
        "\t\t\tprint(\"AI1 and AI2's turn!\")\n",
        "\t\t\tcpu_input = get_cpu_input(new_board, board_size)\n",
        "\t\t\ttry:\n",
        "\t\t\t\tnew_board = update_board(new_board, cpu_input,\"cpu\", board_size)\n",
        "\t\t\t\tprint_board(new_board)\n",
        "\t\t\t\tuser_turn = True\n",
        "\t\t\texcept:\n",
        "\t\t\t\tcontinue\n",
        "\n",
        "\tprint(\"Game Over!\")\n",
        "\tplay_again = \"\"\n",
        "\tplay_again = raw_input(\"Restart? (Y/N): \")\n",
        "\tif play_again == \"Y\" or play_again == \"y\":\n",
        "\t\trun_game()"
      ],
      "id": "ad3cab97"
    },
    {
      "cell_type": "code",
      "execution_count": null,
      "metadata": {
        "colab": {
          "background_save": true,
          "base_uri": "https://localhost:8080/"
        },
        "id": "3a68e508",
        "outputId": "c6e94e4b-bc9a-48bc-88e3-7f4b4f2b8357"
      },
      "outputs": [
        {
          "name": "stdout",
          "output_type": "stream",
          "text": [
            "['_', '_', '_', '_']\n",
            "['_', '_', '_', '_']\n",
            "['_', '_', '_', '_']\n",
            "['_', '_', '_', '_']\n",
            "Your turn!\n",
            "['_', '_', 'X', '_']\n",
            "['_', '_', '_', '_']\n",
            "['_', '_', '_', '_']\n",
            "['_', '_', '_', '_']\n",
            "AI1 and AI2's turn!\n"
          ]
        }
      ],
      "source": [
        "#Code block - Start the game\n",
        "run_game()"
      ],
      "id": "3a68e508"
    },
    {
      "cell_type": "code",
      "execution_count": null,
      "metadata": {
        "id": "83z08Ff1WBg9"
      },
      "outputs": [],
      "source": [
        ""
      ],
      "id": "83z08Ff1WBg9"
    }
  ],
  "metadata": {
    "colab": {
      "collapsed_sections": [],
      "name": "ACI-Assignment-2-Solution Tic Tac Toe Min-Max.ipynb",
      "provenance": []
    },
    "kernelspec": {
      "display_name": "Python 3",
      "language": "python",
      "name": "python3"
    },
    "language_info": {
      "codemirror_mode": {
        "name": "ipython",
        "version": 3
      },
      "file_extension": ".py",
      "mimetype": "text/x-python",
      "name": "python",
      "nbconvert_exporter": "python",
      "pygments_lexer": "ipython3",
      "version": "3.8.8"
    }
  },
  "nbformat": 4,
  "nbformat_minor": 5
}